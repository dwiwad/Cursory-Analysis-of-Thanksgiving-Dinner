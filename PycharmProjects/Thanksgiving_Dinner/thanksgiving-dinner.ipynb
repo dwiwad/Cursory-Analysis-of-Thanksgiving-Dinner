{
 "cells": [
  {
   "cell_type": "markdown",
   "metadata": {},
   "source": [
    "# Analyzing Thanksgiving Dinner Data\n",
    "\n",
    "FiveThirtyEight published a post a while back looking at the most common thanksgiving main and side dishes, etc, in different regions of the United States.\n",
    "\n",
    "In doing a guided project on dataquest.io, I have retrieved those data from the FiveThirtyEight Github (https://github.com/fivethirtyeight/data/tree/master/thanksgiving-2015) and am going to do a series of analyses with them."
   ]
  },
  {
   "cell_type": "code",
   "execution_count": 1,
   "metadata": {
    "collapsed": false
   },
   "outputs": [
    {
     "name": "stdout",
     "output_type": "stream",
     "text": [
      "   RespondentID Do you celebrate Thanksgiving?  \\\n0    4337954960                            Yes   \n1    4337951949                            Yes   \n2    4337935621                            Yes   \n3    4337933040                            Yes   \n4    4337931983                            Yes   \n\n  What is typically the main dish at your Thanksgiving dinner?  \\\n0                                             Turkey             \n1                                             Turkey             \n2                                             Turkey             \n3                                             Turkey             \n4                                           Tofurkey             \n\n  What is typically the main dish at your Thanksgiving dinner? - Other (please specify)  \\\n0                                                NaN                                      \n1                                                NaN                                      \n2                                                NaN                                      \n3                                                NaN                                      \n4                                                NaN                                      \n\n  How is the main dish typically cooked?  \\\n0                                  Baked   \n1                                  Baked   \n2                                Roasted   \n3                                  Baked   \n4                                  Baked   \n\n  How is the main dish typically cooked? - Other (please specify)  \\\n0                                                NaN                \n1                                                NaN                \n2                                                NaN                \n3                                                NaN                \n4                                                NaN                \n\n  What kind of stuffing/dressing do you typically have?  \\\n0                                        Bread-based      \n1                                        Bread-based      \n2                                         Rice-based      \n3                                        Bread-based      \n4                                        Bread-based      \n\n  What kind of stuffing/dressing do you typically have? - Other (please specify)  \\\n0                                                NaN                               \n1                                                NaN                               \n2                                                NaN                               \n3                                                NaN                               \n4                                                NaN                               \n\n  What type of cranberry saucedo you typically have?  \\\n0                                               None   \n1                             Other (please specify)   \n2                                           Homemade   \n3                                           Homemade   \n4                                             Canned   \n\n  What type of cranberry saucedo you typically have? - Other (please specify)  \\\n0                                                NaN                            \n1                    Homemade cranberry gelatin ring                            \n2                                                NaN                            \n3                                                NaN                            \n4                                                NaN                            \n\n          ...          \\\n0         ...           \n1         ...           \n2         ...           \n3         ...           \n4         ...           \n\n  Have you ever tried to meet up with hometown friends on Thanksgiving night?  \\\n0                                                Yes                            \n1                                                 No                            \n2                                                Yes                            \n3                                                Yes                            \n4                                                Yes                            \n\n  Have you ever attended a \"Friendsgiving?\"  \\\n0                                        No   \n1                                        No   \n2                                       Yes   \n3                                        No   \n4                                        No   \n\n  Will you shop any Black Friday sales on Thanksgiving Day?  \\\n0                                                 No          \n1                                                Yes          \n2                                                Yes          \n3                                                 No          \n4                                                 No          \n\n  Do you work in retail? Will you employer make you work on Black Friday?  \\\n0                     No                                              NaN   \n1                     No                                              NaN   \n2                     No                                              NaN   \n3                     No                                              NaN   \n4                     No                                              NaN   \n\n  How would you describe where you live?      Age What is your gender?  \\\n0                               Suburban  18 - 29                 Male   \n1                                  Rural  18 - 29               Female   \n2                               Suburban  18 - 29                 Male   \n3                                  Urban  30 - 44                 Male   \n4                                  Urban  30 - 44                 Male   \n\n  How much total combined money did all members of your HOUSEHOLD earn last year?  \\\n0                                 $75,000 to $99,999                                \n1                                 $50,000 to $74,999                                \n2                                       $0 to $9,999                                \n3                                    $200,000 and up                                \n4                               $100,000 to $124,999                                \n\n            US Region  \n0     Middle Atlantic  \n1  East South Central  \n2            Mountain  \n3             Pacific  \n4             Pacific  \n\n[5 rows x 65 columns]\n"
     ]
    }
   ],
   "source": [
    "import pandas as pd\n",
    "\n",
    "dinner = pd.read_csv(\"thanksgiving-2015-poll-data.csv\", encoding=\"Latin-1\")\n",
    "print(dinner.head(5)) # Just making sure the data is read in properly\n",
    "\n"
   ]
  },
  {
   "cell_type": "code",
   "execution_count": 2,
   "metadata": {},
   "outputs": [
    {
     "data": {
      "text/plain": [
       "Index([u'RespondentID', u'Do you celebrate Thanksgiving?',\n       u'What is typically the main dish at your Thanksgiving dinner?',\n       u'What is typically the main dish at your Thanksgiving dinner? - Other (please specify)',\n       u'How is the main dish typically cooked?',\n       u'How is the main dish typically cooked? - Other (please specify)',\n       u'What kind of stuffing/dressing do you typically have?',\n       u'What kind of stuffing/dressing do you typically have? - Other (please specify)',\n       u'What type of cranberry saucedo you typically have?',\n       u'What type of cranberry saucedo you typically have? - Other (please specify)',\n       u'Do you typically have gravy?',\n       u'Which of these side dishes aretypically served at your Thanksgiving dinner? Please select all that apply. - Brussel sprouts',\n       u'Which of these side dishes aretypically served at your Thanksgiving dinner? Please select all that apply. - Carrots',\n       u'Which of these side dishes aretypically served at your Thanksgiving dinner? Please select all that apply. - Cauliflower',\n       u'Which of these side dishes aretypically served at your Thanksgiving dinner? Please select all that apply. - Corn',\n       u'Which of these side dishes aretypically served at your Thanksgiving dinner? Please select all that apply. - Cornbread',\n       u'Which of these side dishes aretypically served at your Thanksgiving dinner? Please select all that apply. - Fruit salad',\n       u'Which of these side dishes aretypically served at your Thanksgiving dinner? Please select all that apply. - Green beans/green bean casserole',\n       u'Which of these side dishes aretypically served at your Thanksgiving dinner? Please select all that apply. - Macaroni and cheese',\n       u'Which of these side dishes aretypically served at your Thanksgiving dinner? Please select all that apply. - Mashed potatoes',\n       u'Which of these side dishes aretypically served at your Thanksgiving dinner? Please select all that apply. - Rolls/biscuits',\n       u'Which of these side dishes aretypically served at your Thanksgiving dinner? Please select all that apply. - Squash',\n       u'Which of these side dishes aretypically served at your Thanksgiving dinner? Please select all that apply. - Vegetable salad',\n       u'Which of these side dishes aretypically served at your Thanksgiving dinner? Please select all that apply. - Yams/sweet potato casserole',\n       u'Which of these side dishes aretypically served at your Thanksgiving dinner? Please select all that apply. - Other (please specify)',\n       u'Which of these side dishes aretypically served at your Thanksgiving dinner? Please select all that apply. - Other (please specify).1',\n       u'Which type of pie is typically served at your Thanksgiving dinner? Please select all that apply. - Apple',\n       u'Which type of pie is typically served at your Thanksgiving dinner? Please select all that apply. - Buttermilk',\n       u'Which type of pie is typically served at your Thanksgiving dinner? Please select all that apply. - Cherry',\n       u'Which type of pie is typically served at your Thanksgiving dinner? Please select all that apply. - Chocolate',\n       u'Which type of pie is typically served at your Thanksgiving dinner? Please select all that apply. - Coconut cream',\n       u'Which type of pie is typically served at your Thanksgiving dinner? Please select all that apply. - Key lime',\n       u'Which type of pie is typically served at your Thanksgiving dinner? Please select all that apply. - Peach',\n       u'Which type of pie is typically served at your Thanksgiving dinner? Please select all that apply. - Pecan',\n       u'Which type of pie is typically served at your Thanksgiving dinner? Please select all that apply. - Pumpkin',\n       u'Which type of pie is typically served at your Thanksgiving dinner? Please select all that apply. - Sweet Potato',\n       u'Which type of pie is typically served at your Thanksgiving dinner? Please select all that apply. - None',\n       u'Which type of pie is typically served at your Thanksgiving dinner? Please select all that apply. - Other (please specify)',\n       u'Which type of pie is typically served at your Thanksgiving dinner? Please select all that apply. - Other (please specify).1',\n       u'Which of these desserts do you typically have at Thanksgiving dinner? Please select all that apply.   - Apple cobbler',\n       u'Which of these desserts do you typically have at Thanksgiving dinner? Please select all that apply.   - Blondies',\n       u'Which of these desserts do you typically have at Thanksgiving dinner? Please select all that apply.   - Brownies',\n       u'Which of these desserts do you typically have at Thanksgiving dinner? Please select all that apply.   - Carrot cake',\n       u'Which of these desserts do you typically have at Thanksgiving dinner? Please select all that apply.   - Cheesecake',\n       u'Which of these desserts do you typically have at Thanksgiving dinner? Please select all that apply.   - Cookies',\n       u'Which of these desserts do you typically have at Thanksgiving dinner? Please select all that apply.   - Fudge',\n       u'Which of these desserts do you typically have at Thanksgiving dinner? Please select all that apply.   - Ice cream',\n       u'Which of these desserts do you typically have at Thanksgiving dinner? Please select all that apply.   - Peach cobbler',\n       u'Which of these desserts do you typically have at Thanksgiving dinner? Please select all that apply.   - None',\n       u'Which of these desserts do you typically have at Thanksgiving dinner? Please select all that apply.   - Other (please specify)',\n       u'Which of these desserts do you typically have at Thanksgiving dinner? Please select all that apply.   - Other (please specify).1',\n       u'Do you typically pray before or after the Thanksgiving meal?',\n       u'How far will you travel for Thanksgiving?',\n       u'Will you watch any of the following programs on Thanksgiving? Please select all that apply. - Macy's Parade',\n       u'What's the age cutoff at your \"kids' table\" at Thanksgiving?',\n       u'Have you ever tried to meet up with hometown friends on Thanksgiving night?',\n       u'Have you ever attended a \"Friendsgiving?\"',\n       u'Will you shop any Black Friday sales on Thanksgiving Day?',\n       u'Do you work in retail?',\n       u'Will you employer make you work on Black Friday?',\n       u'How would you describe where you live?', u'Age',\n       u'What is your gender?',\n       u'How much total combined money did all members of your HOUSEHOLD earn last year?',\n       u'US Region'],\n      dtype='object')"
      ]
     },
     "execution_count": 2,
     "metadata": {},
     "output_type": "execute_result"
    }
   ],
   "source": [
    "# Printing out the names of all the columns\n",
    "dinner.columns"
   ]
  },
  {
   "cell_type": "markdown",
   "metadata": {},
   "source": [
    "Not everyone celebrates Thanksgiving. So, just to clean up the data a little bit, I am going to remove everyone who doesn't celebrate the holiday."
   ]
  },
  {
   "cell_type": "code",
   "execution_count": 3,
   "metadata": {},
   "outputs": [
    {
     "data": {
      "text/plain": [
       "Yes    980\nNo      78\nName: Do you celebrate Thanksgiving?, dtype: int64"
      ]
     },
     "execution_count": 3,
     "metadata": {},
     "output_type": "execute_result"
    }
   ],
   "source": [
    "#This will just tell us how many people don't celebrate Thanksgiving\n",
    "dinner['Do you celebrate Thanksgiving?'].value_counts()"
   ]
  },
  {
   "cell_type": "code",
   "execution_count": 4,
   "metadata": {},
   "outputs": [],
   "source": [
    "# Lets remove everyone who said no from the data\n",
    "# This selects everyone who said yes, and restores it in 'dinner'\n",
    "dinner = dinner[dinner['Do you celebrate Thanksgiving?'] == 'Yes']"
   ]
  },
  {
   "cell_type": "markdown",
   "metadata": {},
   "source": [
    "## What do people eat for Thanksgiving dinner?\n",
    "\n",
    "Now that we've cleaned up the data a little bit and removed the people who do not celebrate Thanksgiving, we'll look at what people eat for their main courses."
   ]
  },
  {
   "cell_type": "code",
   "execution_count": 5,
   "metadata": {},
   "outputs": [
    {
     "data": {
      "text/plain": [
       "Turkey                    859\nOther (please specify)     35\nHam/Pork                   29\nTofurkey                   20\nChicken                    12\nRoast beef                 11\nI don't know                5\nTurducken                   3\nName: What is typically the main dish at your Thanksgiving dinner?, dtype: int64"
      ]
     },
     "execution_count": 5,
     "metadata": {},
     "output_type": "execute_result"
    }
   ],
   "source": [
    "dinner['What is typically the main dish at your ' \\\n",
    "       'Thanksgiving dinner?'].value_counts()"
   ]
  },
  {
   "cell_type": "code",
   "execution_count": 6,
   "metadata": {},
   "outputs": [
    {
     "data": {
      "text/plain": [
       "Yes    12\nNo      8\nName: Do you typically have gravy?, dtype: int64"
      ]
     },
     "execution_count": 6,
     "metadata": {},
     "output_type": "execute_result"
    }
   ],
   "source": [
    "# Looking just at the tofurkey people - do they use gravy?\n",
    "tofurkey_df = dinner[dinner['What is typically the main dish at your ' \\\n",
    "                            'Thanksgiving dinner?'] == 'Tofurkey']\n",
    "tofurkey_df['Do you typically have gravy?'].value_counts()"
   ]
  },
  {
   "cell_type": "markdown",
   "metadata": {},
   "source": [
    "So, as we can see from the two tables above, the vast majority of people have turkey as their main course. Then, looking just at those 20 weird families that do tofurkey as the main dish, I explored whether they use gravy. Turns out to be an almost 50/50 split, with most of the tofurkey families still using gravy.\n",
    "\n",
    "## What do people eat for dessert?\n",
    "\n",
    "Specifically, I am going to explore what proportion of people eat apple, pecan, or pumpkin pie for dessert. These data are not one-or-the-other. People can report having more than one type of pie for dessert.\n",
    "\n"
   ]
  },
  {
   "cell_type": "code",
   "execution_count": 7,
   "metadata": {},
   "outputs": [
    {
     "data": {
      "text/plain": [
       "False    876\nTrue     104\ndtype: int64"
      ]
     },
     "execution_count": 7,
     "metadata": {},
     "output_type": "execute_result"
    }
   ],
   "source": [
    "# Creating a Boolean Series for Apple pie\n",
    "# Returns True if they ate apple pie\n",
    "apple_isnull = dinner['Which type of pie is typically served at your ' \\\n",
    "                      'Thanksgiving dinner? Please select all that apply. ' \\\n",
    "                      '- Apple'].isnull()\n",
    "# Do the same for pumpkin and pecan\n",
    "pumpkin_isnull = dinner['Which type of pie is typically served at your ' \\\n",
    "                        'Thanksgiving dinner? Please select all that apply. ' \\\n",
    "                        '- Pumpkin'].isnull()\n",
    "pecan_isnull = dinner['Which type of pie is typically served at your ' \\\n",
    "                      'Thanksgiving dinner? Please select all that apply. ' \\\n",
    "                      '- Pecan'].isnull()\n",
    "\n",
    "# Now lets join the three series so we can learn how many families have\n",
    "# at least one pie\n",
    "ate_pies = (apple_isnull) & (pumpkin_isnull) & (pecan_isnull)\n",
    "\n",
    "# Display how many families ate at least one pie\n",
    "ate_pies.value_counts()"
   ]
  },
  {
   "cell_type": "markdown",
   "metadata": {},
   "source": [
    "So, from the above analysis we see that 876 households had at least one pie for dessert on Thanksgiving. Here, a True means that the values for all three pies are null, so False means that at least one is false (i.e., they typically eat at least one pie).\n",
    "\n",
    "## Age\n",
    "\n",
    "Going to do a bit of age analysis. First, need to do a bit more data cleaning. Let's quickly take a look and see how the ages are distributed across categories before we clean it up."
   ]
  },
  {
   "cell_type": "code",
   "execution_count": 8,
   "metadata": {},
   "outputs": [
    {
     "data": {
      "text/plain": [
       "18 - 29    185\n30 - 44    235\n45 - 59    269\n60+        258\nName: Age, dtype: int64"
      ]
     },
     "execution_count": 8,
     "metadata": {},
     "output_type": "execute_result"
    }
   ],
   "source": [
    "age_range = dinner['Age'].value_counts()\n",
    "age_range.sort_index()"
   ]
  },
  {
   "cell_type": "markdown",
   "metadata": {},
   "source": [
    "While this is somewhat informative to look at, these are strings. we need to turn them in to values we can actually use. Unfortunately, given the ages are ranges we are going to lose some information in the process.\n",
    "\n",
    "So, I will assign the lowest age from each category to be that persons value. For example, the 269 people that wrote 45 - 69 will be assigned the age 45.\n",
    "\n",
    "First, I will write a small function to convert the strings to an interval in the way I described above, and then display some descriptives."
   ]
  },
  {
   "cell_type": "code",
   "execution_count": 9,
   "metadata": {},
   "outputs": [
    {
     "data": {
      "text/plain": [
       "count    947.000000\nmean      40.089757\nstd       15.352014\nmin       18.000000\n25%       30.000000\n50%       45.000000\n75%       60.000000\nmax       60.000000\nName: int_age, dtype: float64"
      ]
     },
     "execution_count": 9,
     "metadata": {},
     "output_type": "execute_result"
    }
   ],
   "source": [
    "def extract_age(age_str):\n",
    "    if pd.isnull(age_str):\n",
    "        return None\n",
    "    age_str = age_str.split(' ')[0]\n",
    "    age_str = age_str.replace('+', '')\n",
    "    return int(age_str)\n",
    "\n",
    "# apply the function to our age column\n",
    "dinner['int_age'] = dinner['Age'].apply(extract_age)\n",
    "# display some descriptives\n",
    "dinner['int_age'].describe()"
   ]
  },
  {
   "cell_type": "markdown",
   "metadata": {},
   "source": [
    "### Age Summary\n",
    "\n",
    "So, with this analysis the average age of the respondents was 40, ranging between 18 and 60. This is, however, not an accurate representation of the data because we collapsed all age categories into their lower bound (i.e., 45-69 became 45). \n",
    "\n",
    "As such, all of the statistics on age will be skewed, and with restricted range.\n",
    "\n",
    "## Household Income\n",
    "\n",
    "I am going to now to the same thing I just did with age to income. we'll look at how the incomes are distributed then turn the strings into intervals, assigning the lower bound of the range to be the income value."
   ]
  },
  {
   "cell_type": "code",
   "execution_count": 10,
   "metadata": {},
   "outputs": [
    {
     "data": {
      "text/plain": [
       "$25,000 to $49,999      166\n$50,000 to $74,999      127\n$75,000 to $99,999      127\nPrefer not to answer    118\n$100,000 to $124,999    109\n$200,000 and up          76\n$10,000 to $24,999       60\n$0 to $9,999             52\n$125,000 to $149,999     48\n$150,000 to $174,999     38\n$175,000 to $199,999     26\nName: How much total combined money did all members of your HOUSEHOLD earn last year?, dtype: int64"
      ]
     },
     "execution_count": 10,
     "metadata": {},
     "output_type": "execute_result"
    }
   ],
   "source": [
    "dinner['How much total combined money did all members of your ' \\\n",
    "       'HOUSEHOLD earn last year?'].value_counts()"
   ]
  },
  {
   "cell_type": "code",
   "execution_count": 11,
   "metadata": {},
   "outputs": [
    {
     "data": {
      "text/plain": [
       "count       829.000000\nmean      75965.018094\nstd       59068.636748\nmin           0.000000\n25%       25000.000000\n50%       75000.000000\n75%      100000.000000\nmax      200000.000000\nName: int_inc, dtype: float64"
      ]
     },
     "execution_count": 11,
     "metadata": {},
     "output_type": "execute_result"
    }
   ],
   "source": [
    "# Convert the strings to intervals\n",
    "def extract_inc(inc_str):\n",
    "    if pd.isnull(inc_str):\n",
    "        return None\n",
    "    inc_str = inc_str.split(\" \")[0]\n",
    "    if inc_str == \"Prefer\":\n",
    "        return None\n",
    "    inc_str = inc_str.replace(\"$\", \"\")\n",
    "    inc_str = inc_str.replace(\",\", \"\")\n",
    "    return int(inc_str)\n",
    "\n",
    "# Apply this function to the income column\n",
    "dinner['int_inc'] = dinner['How much total combined money did all members of ' \\\n",
    "                           'your HOUSEHOLD earn last year?'].apply(extract_inc)\n",
    "# Get some descriptives\n",
    "dinner['int_inc'].describe()"
   ]
  },
  {
   "cell_type": "markdown",
   "metadata": {},
   "source": [
    "### Income Summary\n",
    "\n",
    "just like we did with age, we basically rounded all the income categories down. With this, the average household income was $75,965. So, again, not the most accurate depiction of the average income because we lose a lot of the range/variability, but will do for now.\n",
    "\n",
    "## Do lower income people travel farther for Thanksgiving?\n",
    "\n",
    "The hypothesis here is that lower income people are generally younger, and thus travel more often to their parents for thanksgiving. Higher income people are more likely to be older and thus more stable, holding Thanksgiving at their own houses.\n",
    "\n",
    "To explore this, we filter the data by our newly created interval income categories, and then look at the values of the question 'How far will you travel for thanksgiving?'"
   ]
  },
  {
   "cell_type": "code",
   "execution_count": 12,
   "metadata": {},
   "outputs": [
    {
     "data": {
      "text/plain": [
       "Thanksgiving is happening at my home--I won't travel at all                         281\nThanksgiving is local--it will take place in the town I live in                     203\nThanksgiving is out of town but not too far--it's a drive of a few hours or less    150\nThanksgiving is out of town and far away--I have to drive several hours or fly       55\nName: How far will you travel for Thanksgiving?, dtype: int64"
      ]
     },
     "execution_count": 12,
     "metadata": {},
     "output_type": "execute_result"
    }
   ],
   "source": [
    "# Selecting people who earn under $150,000 to see how far they travel\n",
    "low_inc = dinner[dinner[\"int_inc\"] < 150000]\n",
    "\n",
    "travel_LI = low_inc[\"How far will you travel for Thanksgiving?\"]\n",
    "\n",
    "# Lets get the value counts for this distance travelled column\n",
    "travel_LI.value_counts()"
   ]
  },
  {
   "cell_type": "markdown",
   "metadata": {},
   "source": [
    "Alright, so it seems like most of the \"lower wage\" people are staying home for Thanksgiving. Only 205 are traveling out of town, relative to the 484 (70%) who are staying in town. What about the people who make over $150,000"
   ]
  },
  {
   "cell_type": "code",
   "execution_count": 13,
   "metadata": {},
   "outputs": [
    {
     "data": {
      "text/plain": [
       "Thanksgiving is happening at my home--I won't travel at all                         49\nThanksgiving is local--it will take place in the town I live in                     25\nThanksgiving is out of town but not too far--it's a drive of a few hours or less    16\nThanksgiving is out of town and far away--I have to drive several hours or fly      12\nName: How far will you travel for Thanksgiving?, dtype: int64"
      ]
     },
     "execution_count": 13,
     "metadata": {},
     "output_type": "execute_result"
    }
   ],
   "source": [
    "high_inc = dinner[dinner[\"int_inc\"] > 150000]\n",
    "travel_HI = high_inc[\"How far will you travel for Thanksgiving?\"]\n",
    "travel_HI.value_counts() "
   ]
  },
  {
   "cell_type": "markdown",
   "metadata": {},
   "source": [
    "So, there are obviously less people in this category. Regardless, we've got 72.5% of the people who earn more than $150,000 staying at home. So, it seems this hypothesis is unsupported. \"Lower\" income folks don't travel any more than higher income folks for Thanksgiving.\n",
    "\n",
    "## Friendsgiving! Do the Young'uns do it more?\n",
    "\n",
    "Let's take a look at the young people versus old in whether or not they are attending a friendsgiving."
   ]
  },
  {
   "cell_type": "code",
   "execution_count": 14,
   "metadata": {},
   "outputs": [
    {
     "name": "stdout",
     "output_type": "stream",
     "text": [
      "Have you ever attended a \"Friendsgiving?\"                  No        Yes\nHave you ever tried to meet up with hometown fr...                      \nNo                                                  42.283702  37.010526\nYes                                                 41.475410  33.976744\n"
     ]
    }
   ],
   "source": [
    "# Lets generate a pivot table\n",
    "\n",
    "friendsgiving = pd.pivot_table(dinner, values = \"int_age\", \n",
    "                               index = \"Have you ever tried to meet up \"\n",
    "                                       \"with hometown friends on \"\n",
    "                                       \"Thanksgiving night?\",\n",
    "                               columns = 'Have you ever attended a '\n",
    "                                         '\"Friendsgiving?\"')\n",
    "print(friendsgiving)"
   ]
  },
  {
   "cell_type": "markdown",
   "metadata": {},
   "source": [
    "From this we get a nice little 2x2 table showing yes and no for the two above questions, and the average age for each column. So, the people who said no to both (i.e., have never done anything related to Friendsgiving) are on average 42.3 years old, whereas the people who answered yes to both were, on average, 34. So theres about a ten year age gap - seems like younger folks do friendsgiving more often.\n",
    "\n",
    "However, if you simply asked whether they tried to meet up with hometown friends, that age difference disappears. So there are two possibilities: (1) its a phrasing difference such that older people do not use the term \"friendsgiving,\" or (b) the terms imply different things (e.g., Friendsgiving implies meeting for dinner, where as simply meeting with friends may be after dinner).\n",
    "\n",
    "Is it also a poor mans game?"
   ]
  },
  {
   "cell_type": "code",
   "execution_count": 15,
   "metadata": {},
   "outputs": [
    {
     "name": "stdout",
     "output_type": "stream",
     "text": [
      "Have you ever attended a \"Friendsgiving?\"                     No           Yes\nHave you ever tried to meet up with hometown fr...                            \nNo                                                  78914.549654  72894.736842\nYes                                                 78750.000000  66019.736842\n"
     ]
    }
   ],
   "source": [
    "friendsgiving_inc = pd.pivot_table(dinner, values = \"int_inc\", \n",
    "                                   index = \"Have you ever tried to meet up \"\n",
    "                                           \"with hometown friends on \"\n",
    "                                           \"Thanksgiving night?\",\n",
    "                               columns = 'Have you ever attended a '\n",
    "                                         '\"Friendsgiving?\"')\n",
    "print(friendsgiving_inc)"
   ]
  },
  {
   "cell_type": "markdown",
   "metadata": {},
   "source": [
    "Seems like the answer is again yes. The average income of people who said yes to both was about $8,000 lower than those who said no to both. But there is the same interpretation as the age analysis above. The income difference disappears when the phrasing is changed, possibly for either of the reasons listed above."
   ]
  },
  {
   "cell_type": "markdown",
   "metadata": {},
   "source": [
    "## What is the most common dessert?\n",
    "\n",
    "This should be relatively easy, lets just look at the value counts for each of the dessert related columns and see what is the most common! There are a lot of different dessert columns, so I'm just going to try to compare them all and print the most frequently occuring. Additionally, let's ignore everyone who said \"None\" or \"Other\" for the various dessert options.\n",
    "\n",
    "To do this I'm just going to make a dictionary for each of the desserts. Then I'll store the value count for each each dessert as the value to that desserts key, then I'll sort them by descending - then we can see the most popular desserts!"
   ]
  },
  {
   "cell_type": "code",
   "execution_count": 16,
   "metadata": {},
   "outputs": [
    {
     "name": "stdout",
     "output_type": "stream",
     "text": [
      "('pumpkin pie', 729)\n('apple pie', 514)\n('pecan pie', 342)\n('ice cream', 266)\n('cookies', 204)\n('cheesecake', 191)\n('sweet potato pie', 152)\n('chocolate pie', 133)\n('brownies', 128)\n('cherry pie', 113)\n('apple cobbler', 110)\n('peach cobbler', 103)\n('carrot cake', 72)\n('fudge', 43)\n('key lime pie', 39)\n('coconut cream pie', 36)\n('buttermilk pie', 35)\n('peach pie', 34)\n('blondies', 16)\n"
     ]
    }
   ],
   "source": [
    "desserts = {'apple pie': 0,\n",
    "            'buttermilk pie': 0,\n",
    "            'cherry pie': 0,\n",
    "            'chocolate pie': 0,\n",
    "            'coconut cream pie': 0,\n",
    "            'key lime pie': 0,\n",
    "            'peach pie': 0,\n",
    "            'pecan pie': 0,\n",
    "            'pumpkin pie': 0,\n",
    "            'sweet potato pie': 0,\n",
    "            'apple cobbler': 0,\n",
    "            'blondies': 0,\n",
    "            'brownies': 0,\n",
    "            'carrot cake': 0,\n",
    "            'cheesecake': 0,\n",
    "            'cookies': 0,\n",
    "            'fudge': 0,\n",
    "            'ice cream': 0,\n",
    "            'peach cobbler': 0\n",
    "        }\n",
    "\n",
    "desserts['apple pie'] = int(dinner['Which type of pie is typically served at your Thanksgiving dinner? Please select all that apply. - Apple'].value_counts())\n",
    "desserts['buttermilk pie'] = int(dinner['Which type of pie is typically served at your Thanksgiving dinner? Please select all that apply. - Buttermilk'].value_counts())\n",
    "desserts['cherry pie'] = int(dinner['Which type of pie is typically served at your Thanksgiving dinner? Please select all that apply. - Cherry'].value_counts())\n",
    "desserts['chocolate pie'] = int(dinner['Which type of pie is typically served at your Thanksgiving dinner? Please select all that apply. - Chocolate'].value_counts())\n",
    "desserts['coconut cream pie'] = int(dinner['Which type of pie is typically served at your Thanksgiving dinner? Please select all that apply. - Coconut cream'].value_counts())\n",
    "desserts['key lime pie'] = int(dinner['Which type of pie is typically served at your Thanksgiving dinner? Please select all that apply. - Key lime'].value_counts())\n",
    "desserts['peach pie'] = int(dinner['Which type of pie is typically served at your Thanksgiving dinner? Please select all that apply. - Peach'].value_counts())\n",
    "desserts['pecan pie'] = int(dinner['Which type of pie is typically served at your Thanksgiving dinner? Please select all that apply. - Pecan'].value_counts())\n",
    "desserts['pumpkin pie'] = int(dinner['Which type of pie is typically served at your Thanksgiving dinner? Please select all that apply. - Pumpkin'].value_counts())\n",
    "desserts['sweet potato pie'] = int(dinner['Which type of pie is typically served at your Thanksgiving dinner? Please select all that apply. - Sweet Potato'].value_counts())\n",
    "\n",
    "desserts['apple cobbler'] = int(dinner['Which of these desserts do you typically have at Thanksgiving dinner? Please select all that apply.   - Apple cobbler'].value_counts())\n",
    "desserts['blondies'] = int(dinner['Which of these desserts do you typically have at Thanksgiving dinner? Please select all that apply.   - Blondies'].value_counts())\n",
    "desserts['brownies'] = int(dinner['Which of these desserts do you typically have at Thanksgiving dinner? Please select all that apply.   - Brownies'].value_counts())\n",
    "desserts['carrot cake'] = int(dinner['Which of these desserts do you typically have at Thanksgiving dinner? Please select all that apply.   - Carrot cake'].value_counts())\n",
    "desserts['cheesecake'] = int(dinner['Which of these desserts do you typically have at Thanksgiving dinner? Please select all that apply.   - Cheesecake'].value_counts())\n",
    "desserts['cookies'] = int(dinner['Which of these desserts do you typically have at Thanksgiving dinner? Please select all that apply.   - Cookies'].value_counts())\n",
    "desserts['fudge'] = int(dinner['Which of these desserts do you typically have at Thanksgiving dinner? Please select all that apply.   - Fudge'].value_counts())\n",
    "desserts['ice cream'] = int(dinner['Which of these desserts do you typically have at Thanksgiving dinner? Please select all that apply.   - Ice cream'].value_counts())\n",
    "desserts['peach cobbler'] = int(dinner['Which of these desserts do you typically have at Thanksgiving dinner? Please select all that apply.   - Peach cobbler'].value_counts())\n",
    "\n",
    "# Sort the dictionary then print the keys and values\n",
    "desserts_sorted = sorted(desserts, key=desserts.get, reverse=True)\n",
    "\n",
    "for dessert in desserts_sorted\n",
    "    print(dessert, desserts[dessert])"
   ]
  },
  {
   "cell_type": "markdown",
   "metadata": {},
   "source": [
    "This is not at all surprising. The two most common Thanksgiving desserts are pumpkin and apple pie. Apparently people don't like blondies, peach pie, or buttermilk pie. \n",
    "\n",
    "This was a fun little analysis to figure out. I think I can do it better with a for loop but I'm not entirely sure how. Not the most elegant code, but thats okay."
   ]
  },
  {
   "cell_type": "code",
   "execution_count": null,
   "metadata": {},
   "outputs": [],
   "source": []
  }
 ],
 "metadata": {
  "kernelspec": {
   "display_name": "Python 2",
   "language": "python",
   "name": "python2"
  },
  "language_info": {
   "codemirror_mode": {
    "name": "ipython",
    "version": 2
   },
   "file_extension": ".py",
   "mimetype": "text/x-python",
   "name": "python",
   "nbconvert_exporter": "python",
   "pygments_lexer": "ipython2",
   "version": "2.7.6"
  }
 },
 "nbformat": 4,
 "nbformat_minor": 0
}
